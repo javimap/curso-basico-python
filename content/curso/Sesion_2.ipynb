{
  "metadata": {
    "language_info": {
      "codemirror_mode": {
        "name": "python",
        "version": 3
      },
      "file_extension": ".py",
      "mimetype": "text/x-python",
      "name": "python",
      "nbconvert_exporter": "python",
      "pygments_lexer": "ipython3",
      "version": "3.8"
    },
    "kernelspec": {
      "name": "python",
      "display_name": "Python (Pyodide)",
      "language": "python"
    }
  },
  "nbformat_minor": 4,
  "nbformat": 4,
  "cells": [
    {
      "cell_type": "markdown",
      "source": "# Segunda sesión\n\n## 2.9 Funciones II (cont.)\n\n### 2.9.1. Funciones con cantidad variable de parámetros\nOtra variante en la declaración de una función en Python es la definición de una cantidad variable de parámetros:",
      "metadata": {}
    },
    {
      "cell_type": "code",
      "source": "def sumar(s1, s2, *sumandos):\n    suma = s1 + s2\n    for ii in range(len(sumandos)):\n        suma = suma + sumandos[ii]\n    return suma\n\nprint(\"La suma de 1+2\")\nprint(sumar(1, 2))\nprint(\"La suma de 1+2+3\")\nprint(sumar(1, 2, 3))\nprint(\"La suma de 1+2+3+4+5+6+7+8+9+10\")\nprint(sumar(1, 2, 3, 4, 5, 6, 7, 8, 9, 10))",
      "metadata": {
        "trusted": true
      },
      "execution_count": null,
      "outputs": []
    },
    {
      "cell_type": "code",
      "source": "def imprimeArgs(arg_fijo, *args, **kwords): \n    print(arg_fijo) \n    for argumento in args: \n        print(argumento)\n    # Los argumentos arbitrarios tipo clave, se recorren como los diccionarios \n    for clave in kwords: \n        print(\"El valor de\", clave, \"es\", kwords[clave])\n\nimprimeArgs(\"Fixed\",\n            \"arbitrario 1\", \"arbitrario 2\", \"arbitrario 3\",\n            clave1=\"valor uno\", clave2=\"valor dos\")",
      "metadata": {
        "trusted": true
      },
      "execution_count": null,
      "outputs": []
    },
    {
      "cell_type": "markdown",
      "source": "### 2.9.2. Desempaquetado de argumentos de entrada\nPuede ocurrir además, una situación inversa a la anterior. Es decir, que la función espere una lista fija de argumentos de entrada, pero que éstos, en vez de estar disponibles de forma separada, se encuentren contenidos en una lista o tupla:",
      "metadata": {}
    },
    {
      "cell_type": "code",
      "source": "def calcular(importe, descuento): \n    return importe - (importe * descuento / 100) \n\ndatos = 1500, 10 # Si los pasamos como lista o tupla, hay que respetar el orden.\nprint(calcular(*datos))\ndatos = {\"descuento\": 10, \"importe\": 1500} \nprint(calcular(**datos))",
      "metadata": {
        "trusted": true
      },
      "execution_count": null,
      "outputs": []
    },
    {
      "cell_type": "markdown",
      "source": "### 2.9.3. Funciones *lambda*\nLas funciones `lambda` son funciones anónimas que solo pueden contener una expresión.",
      "metadata": {}
    },
    {
      "cell_type": "code",
      "source": "p = lambda x, y: x*y\np(4, 2)",
      "metadata": {
        "trusted": true
      },
      "execution_count": null,
      "outputs": []
    },
    {
      "cell_type": "markdown",
      "source": "Suelen emplearse para ahorrar código o en casos de necesitar definir funciones sencillas que no serán reutilizadas:",
      "metadata": {}
    },
    {
      "cell_type": "code",
      "source": "mi_lista = [1, 2, 3, 4, 5, 6]\nmi_tupla = tuple(map(lambda x: x * 2, mi_lista))\nprint(mi_tupla)  # (2, 4, 6, 8, 10, 12)",
      "metadata": {
        "trusted": true
      },
      "execution_count": null,
      "outputs": []
    },
    {
      "cell_type": "markdown",
      "source": "Como se puede observar, la función `map` \"mapea\" una función sobre un iterable. Hace algo similar a un bucle *for* pero, si no pedimos que nos devuelva una tupla o una lista, obtendremos un objeto. La función `filter` también es susceptible de emplear funciones *lambda*:",
      "metadata": {}
    },
    {
      "cell_type": "code",
      "source": "mi_lista = [18, -3, 5, 0, -1, 12]\nlista_nueva = list(filter(lambda x: x > 0, mi_lista))\nprint(lista_nueva) # [18, 5, 12]",
      "metadata": {
        "trusted": true
      },
      "execution_count": null,
      "outputs": []
    },
    {
      "cell_type": "markdown",
      "source": "Bien usada dentro de funciones, *lambda* tiene bastante potencia:",
      "metadata": {}
    },
    {
      "cell_type": "code",
      "source": "def creaPolinomioOrden2(p0, p1, p2):\n    \"\"\" Retorna un polinomio de 2o orden a partir de sus coeficientes \"\"\"\n    return lambda x: p0 + p1*x + p2*x**2\n\nmi_polinomio = creaPolinomioOrden2(1, -3, 4)\nprint(mi_polinomio)\nprint(\"Evaluado en x=5 da \", mi_polinomio(5))\nprint(\"Evaluado en x=0 da \", mi_polinomio(0))\notro_polinomio = creaPolinomioOrden2(0, 0, 1)\nprint(otro_polinomio)\nprint(\"El otro evaluado en x=5 da \", otro_polinomio(5))\nprint(\"El otro evaluado en x=0 da \", otro_polinomio(0))",
      "metadata": {
        "trusted": true
      },
      "execution_count": null,
      "outputs": []
    },
    {
      "cell_type": "code",
      "source": "",
      "metadata": {},
      "execution_count": null,
      "outputs": []
    },
    {
      "cell_type": "markdown",
      "source": "# 3. Biblioteca *NumPy*\n\n* Una biblioteca para Python: `ndarray` + `ufunc`\n* Los arrays multidimensionales (`ndarray`) nos permiten almacenar datos de manera estructurada\n* Las funciones universales (`ufunc`) nos permiten operar con esos datos de manera eficiente",
      "metadata": {
        "slideshow": {
          "slide_type": "slide"
        }
      }
    },
    {
      "cell_type": "markdown",
      "source": "Python está organizado en módulos, que son archivos con extensión `.py` que contienen funciones, variables y otros objetos, y paquetes, que son conjuntos de módulos. Cuando queremos utilizar objetos que están definidos en un módulo tenemos que *importarlo*, y una vez que lo hemos hecho podemos usar el operador `.` para ir descendiendo en la jerarquía de paquetes y acceder al objeto que necesitamos. Por ejemplo, de esta manera importamos NumPy:",
      "metadata": {}
    },
    {
      "cell_type": "code",
      "source": "import numpy",
      "metadata": {
        "collapsed": false,
        "jupyter": {
          "outputs_hidden": false
        },
        "trusted": true
      },
      "execution_count": null,
      "outputs": []
    },
    {
      "cell_type": "markdown",
      "source": "Y de esta manera accedemos a la función `norm`, que calcula la norma (o módulo) de un array:",
      "metadata": {}
    },
    {
      "cell_type": "code",
      "source": "numpy.linalg.norm",
      "metadata": {
        "collapsed": false,
        "jupyter": {
          "outputs_hidden": false
        },
        "trusted": true
      },
      "execution_count": null,
      "outputs": []
    },
    {
      "cell_type": "markdown",
      "source": "La función `norm` está dentro del paquete `linalg`, que a su vez está dentro del paquete NumPy.",
      "metadata": {}
    },
    {
      "cell_type": "markdown",
      "source": "La convención para importar NumPy siempre es esta:",
      "metadata": {}
    },
    {
      "cell_type": "code",
      "source": "import numpy as np",
      "metadata": {
        "slideshow": {
          "slide_type": "fragment"
        },
        "collapsed": false,
        "jupyter": {
          "outputs_hidden": false
        },
        "trusted": true
      },
      "execution_count": null,
      "outputs": []
    },
    {
      "cell_type": "markdown",
      "source": "Lo que hacemos es crear un *alias* al paquete NumPy de nombre `np`. Es simplemente una forma de abreviar el código. Esta forma de separar las funciones en paquetes (que se llaman **espacios de nombres** o *namespaces*) conduce a una mayor legibilidad del código y a la supresión de ambigüedades.",
      "metadata": {}
    },
    {
      "cell_type": "markdown",
      "source": "Para encontrar ayuda sobre cierto tema podemos usar la función `lookfor`:",
      "metadata": {}
    },
    {
      "cell_type": "code",
      "source": "np.lookfor(\"solve\")",
      "metadata": {
        "collapsed": false,
        "jupyter": {
          "outputs_hidden": false
        },
        "trusted": true
      },
      "execution_count": null,
      "outputs": []
    },
    {
      "cell_type": "markdown",
      "source": "## 3.1. Constantes y funciones matemáticas",
      "metadata": {}
    },
    {
      "cell_type": "markdown",
      "source": "Además de arrays, NumPy contiene también constantes y funciones matemáticas de uso cotidiano.",
      "metadata": {}
    },
    {
      "cell_type": "code",
      "source": "np.e",
      "metadata": {
        "collapsed": false,
        "jupyter": {
          "outputs_hidden": false
        },
        "trusted": true
      },
      "execution_count": null,
      "outputs": []
    },
    {
      "cell_type": "code",
      "source": "np.pi",
      "metadata": {
        "collapsed": false,
        "jupyter": {
          "outputs_hidden": false
        },
        "trusted": true
      },
      "execution_count": null,
      "outputs": []
    },
    {
      "cell_type": "code",
      "source": "np.log(2)",
      "metadata": {
        "collapsed": false,
        "jupyter": {
          "outputs_hidden": false
        },
        "trusted": true
      },
      "execution_count": null,
      "outputs": []
    },
    {
      "cell_type": "markdown",
      "source": "## 3.2. El *Array* de NumPy\n\nUn array de NumPy es una colección de `N` elementos, igual que una secuencia de Python (por ejemplo, una lista). Tiene las mismas propiedades que una secuencia y alguna más. Para crear un array, la forma más directa es pasarle una secuencia a la función `np.array`.",
      "metadata": {
        "slideshow": {
          "slide_type": "slide"
        }
      }
    },
    {
      "cell_type": "code",
      "source": "np.array([1, 2, 3])",
      "metadata": {
        "collapsed": false,
        "jupyter": {
          "outputs_hidden": false
        },
        "trusted": true
      },
      "execution_count": null,
      "outputs": []
    },
    {
      "cell_type": "markdown",
      "source": "Los arrays de NumPy son *homogéneos*, es decir, todos sus elementos son del mismo tipo. Si le pasamos a `np.array` una secuencia con objetos de tipos diferentes, promocionará todos al tipo con más información. Para acceder al tipo del array, podemos usar el atributo `dtype`.",
      "metadata": {}
    },
    {
      "cell_type": "code",
      "source": "a = np.array([1, 2, 3.0])\nprint(a.dtype)",
      "metadata": {
        "collapsed": false,
        "jupyter": {
          "outputs_hidden": false
        },
        "trusted": true
      },
      "execution_count": null,
      "outputs": []
    },
    {
      "cell_type": "code",
      "source": "np.array([1, 2, \"3\"])",
      "metadata": {
        "collapsed": false,
        "jupyter": {
          "outputs_hidden": false
        },
        "trusted": true
      },
      "execution_count": null,
      "outputs": []
    },
    {
      "cell_type": "markdown",
      "source": "<div class=\"alert alert-warning\">**Nota**: Si NumPy no entiende el tipo de datos o construimos un array con argumentos incorrectos devolverá un array con `dtype` `object`. Estos arrays rara vez son útiles y su aparición suele ser signo de que algo falla en nuestro programa.</div>",
      "metadata": {}
    },
    {
      "cell_type": "markdown",
      "source": "NumPy intentará automáticamente construir un array con el tipo adecuado teniendo en cuenta los datos de entrada, aunque nosotros podemos forzarlo.",
      "metadata": {
        "slideshow": {
          "slide_type": "notes"
        }
      }
    },
    {
      "cell_type": "code",
      "source": "np.array([1, 2, 3], dtype=float)",
      "metadata": {
        "collapsed": false,
        "slideshow": {
          "slide_type": "fragment"
        },
        "jupyter": {
          "outputs_hidden": false
        },
        "trusted": true
      },
      "execution_count": null,
      "outputs": []
    },
    {
      "cell_type": "code",
      "source": "np.array([1, 2, 3], dtype=complex)",
      "metadata": {
        "collapsed": false,
        "jupyter": {
          "outputs_hidden": false
        },
        "trusted": true
      },
      "execution_count": null,
      "outputs": []
    },
    {
      "cell_type": "markdown",
      "source": "También podemos convertir un array de un tipo a otro utilizando el método `.astype`.",
      "metadata": {}
    },
    {
      "cell_type": "code",
      "source": "a",
      "metadata": {
        "collapsed": false,
        "jupyter": {
          "outputs_hidden": false
        },
        "trusted": true
      },
      "execution_count": null,
      "outputs": []
    },
    {
      "cell_type": "code",
      "source": "a.astype(int)",
      "metadata": {
        "collapsed": false,
        "jupyter": {
          "outputs_hidden": false
        },
        "trusted": true
      },
      "execution_count": null,
      "outputs": []
    },
    {
      "cell_type": "markdown",
      "source": "## 3.3. La eficiencia que proporciona trabajar con arrays\n\n* Los bucles son costosos\n* Eliminar bucles: **vectorizar** operaciones\n* Los bucles se ejecutan en Python, las operaciones vectorizadas en C\n* Las operaciones entre arrays de NumPy se realizan **elemento a elemento**\n\nEjemplo:\n\n$$ a_{ij} = b_{ij} + c_{ij} $$",
      "metadata": {
        "slideshow": {
          "slide_type": "slide"
        }
      }
    },
    {
      "cell_type": "code",
      "source": "N, M = 100, 100\na = np.empty(10000).reshape(N, M)\nb = np.random.rand(10000).reshape(N, M)\nc = np.random.rand(10000).reshape(N, M)",
      "metadata": {
        "collapsed": false,
        "jupyter": {
          "outputs_hidden": false
        },
        "trusted": true
      },
      "execution_count": null,
      "outputs": []
    },
    {
      "cell_type": "code",
      "source": "%%timeit\nfor i in range(N):\n    for j in range(M):\n        a[i, j] = b[i, j] + c[i, j]",
      "metadata": {
        "collapsed": false,
        "jupyter": {
          "outputs_hidden": false
        },
        "trusted": true
      },
      "execution_count": null,
      "outputs": []
    },
    {
      "cell_type": "code",
      "source": "%%timeit\na = b + c",
      "metadata": {
        "collapsed": false,
        "jupyter": {
          "outputs_hidden": false
        },
        "trusted": true
      },
      "execution_count": null,
      "outputs": []
    },
    {
      "cell_type": "markdown",
      "source": "¡1000 veces más rápido! Se hace fundamental **vectorizar** las operaciones y aprovechar al máximo la velocidad de NumPy.",
      "metadata": {}
    },
    {
      "cell_type": "markdown",
      "source": "## 3.4. Indexación de arrays",
      "metadata": {}
    },
    {
      "cell_type": "markdown",
      "source": "Una de las herramientas más importantes a la hora de trabajar con arrays es el indexado. Consiste en seleccionar elementos aislados o secciones de un array. Nosotros vamos a ver la indexación básica, pero existen técnicas de indexación avanzada que convierten los arrays en herramientas potentísimas.",
      "metadata": {}
    },
    {
      "cell_type": "code",
      "source": "a = np.array([\n    [1, 2, 3],\n    [4, 5, 6]\n])\na",
      "metadata": {
        "collapsed": false,
        "jupyter": {
          "outputs_hidden": false
        },
        "trusted": true
      },
      "execution_count": null,
      "outputs": []
    },
    {
      "cell_type": "markdown",
      "source": "Los índices se indican entre corchetes justo después del array. Recuerda que en Python la indexación empieza en 0. Si recuperamos el primer elemento de un array de dos dimensiones, obtenemos la primera fila.",
      "metadata": {}
    },
    {
      "cell_type": "code",
      "source": "a[0]",
      "metadata": {
        "collapsed": false,
        "jupyter": {
          "outputs_hidden": false
        },
        "trusted": true
      },
      "execution_count": null,
      "outputs": []
    },
    {
      "cell_type": "markdown",
      "source": "En vez de usar `a[0][0]` para recuperar el primer elemento de la primera fila, podemos abreviar aún más la sintaxis:",
      "metadata": {}
    },
    {
      "cell_type": "code",
      "source": "a[0, 0]",
      "metadata": {
        "collapsed": false,
        "jupyter": {
          "outputs_hidden": false
        },
        "trusted": true
      },
      "execution_count": null,
      "outputs": []
    },
    {
      "cell_type": "markdown",
      "source": "No solo podemos recuperar un elemento aislado, sino también porciones del array, utilizando la sintaxis `[<inicio>:<final>:<salto>]`.",
      "metadata": {}
    },
    {
      "cell_type": "code",
      "source": "a[0, 1:3]",
      "metadata": {
        "collapsed": false,
        "jupyter": {
          "outputs_hidden": false
        },
        "trusted": true
      },
      "execution_count": null,
      "outputs": []
    },
    {
      "cell_type": "code",
      "source": "a[0, ::2]",
      "metadata": {
        "collapsed": false,
        "jupyter": {
          "outputs_hidden": false
        },
        "trusted": true
      },
      "execution_count": null,
      "outputs": []
    },
    {
      "cell_type": "markdown",
      "source": "## 3.5. Creación de arrays\n\nMuchos métodos y muy variados\n\n* A partir de datos existentes: `array`, `copy`\n* Unos y ceros: `empty`, `eye`, `ones`, `zeros`, `*_like`\n* Rangos: `arange`, `linspace`, `logspace`, `meshgrid`\n* Aleatorios: `rand`, `randn`",
      "metadata": {
        "slideshow": {
          "slide_type": "slide"
        }
      }
    },
    {
      "cell_type": "markdown",
      "source": "### 3.5.1. Unos y ceros\n\n* `empty(shape)` crea un array con «basura», equivalente a no inicializarlo, ligeramente más rápido que `zeros` o `ones`\n* `eye(N, M=None, k=0)` crea un array con unos en una diagonal y ceros en el resto\n* `identity(n)` devuelve la matriz identidad\n* Las funciones `*_like(a)` construyen arrays con el mismo tamaño que uno dado",
      "metadata": {
        "slideshow": {
          "slide_type": "slide"
        }
      }
    },
    {
      "cell_type": "code",
      "source": "np.identity(5).astype(int)",
      "metadata": {
        "collapsed": false,
        "jupyter": {
          "outputs_hidden": false
        },
        "trusted": true
      },
      "execution_count": null,
      "outputs": []
    },
    {
      "cell_type": "code",
      "source": "_.shape",
      "metadata": {
        "collapsed": false,
        "jupyter": {
          "outputs_hidden": false
        },
        "trusted": true
      },
      "execution_count": null,
      "outputs": []
    },
    {
      "cell_type": "markdown",
      "source": "Si la función recibe como argumento `shape`, debemos pasarle el número de filas y columnas como una tupla (es decir, encerrado entre paréntesis).",
      "metadata": {}
    },
    {
      "cell_type": "code",
      "source": "np.zeros((3, 4))",
      "metadata": {
        "collapsed": false,
        "jupyter": {
          "outputs_hidden": false
        },
        "trusted": true
      },
      "execution_count": null,
      "outputs": []
    },
    {
      "cell_type": "markdown",
      "source": "<div class=\"alert alert-warning\">**Nota**: Un error muy típico es tratar de construir un array llamando a la función con dos argumentos, como se ejemplifica en la celda siguiente. Esto produce un error, porque NumPy espera un solo argumento: una tupla con el número de filas y el número de columnas. Es conveniente asegurarse de cuál es el convenio en cada caso porque no siempre hay consistencia interna.</div>",
      "metadata": {}
    },
    {
      "cell_type": "code",
      "source": "np.zeros(3, 4)",
      "metadata": {
        "collapsed": false,
        "jupyter": {
          "outputs_hidden": false
        },
        "trusted": true
      },
      "execution_count": null,
      "outputs": []
    },
    {
      "cell_type": "code",
      "source": "np.ones((3, 4))",
      "metadata": {
        "collapsed": false,
        "jupyter": {
          "outputs_hidden": false
        },
        "trusted": true
      },
      "execution_count": null,
      "outputs": []
    },
    {
      "cell_type": "code",
      "source": "i3 = np.identity(3)\ni3",
      "metadata": {
        "collapsed": false,
        "jupyter": {
          "outputs_hidden": false
        },
        "trusted": true
      },
      "execution_count": null,
      "outputs": []
    },
    {
      "cell_type": "code",
      "source": "i3.shape",
      "metadata": {
        "collapsed": false,
        "jupyter": {
          "outputs_hidden": false
        },
        "trusted": true
      },
      "execution_count": null,
      "outputs": []
    },
    {
      "cell_type": "code",
      "source": "np.ones(i3.shape)",
      "metadata": {
        "collapsed": false,
        "jupyter": {
          "outputs_hidden": false
        },
        "trusted": true
      },
      "execution_count": null,
      "outputs": []
    },
    {
      "cell_type": "markdown",
      "source": "Si en lugar de pasar directamente la forma del array ya sabemos que queremos crear un array con la misma forma que otro, podemos usar las funciones `*_like`, que reciben un array en vez de una tupla.",
      "metadata": {}
    },
    {
      "cell_type": "code",
      "source": "np.ones_like(i3)",
      "metadata": {
        "collapsed": false,
        "jupyter": {
          "outputs_hidden": false
        },
        "trusted": true
      },
      "execution_count": null,
      "outputs": []
    },
    {
      "cell_type": "markdown",
      "source": "### 3.5.2. Rangos\n\n* `linspace(start, stop, num=50)` devuelve números equiespaciados dentro de un intervalo\n* `logspace(start, stop, num=50, base=10.0)` devuelve números equiespaciados según una escala logarítmica\n* `meshgrid(x1, x2, ...)` devuelve matrices de n-coordenadas",
      "metadata": {
        "slideshow": {
          "slide_type": "slide"
        }
      }
    },
    {
      "cell_type": "code",
      "source": "np.linspace(0, 1, num=10)",
      "metadata": {
        "collapsed": false,
        "jupyter": {
          "outputs_hidden": false
        },
        "trusted": true
      },
      "execution_count": null,
      "outputs": []
    },
    {
      "cell_type": "code",
      "source": "np.logspace(0, 3)",
      "metadata": {
        "collapsed": false,
        "jupyter": {
          "outputs_hidden": false
        },
        "trusted": true
      },
      "execution_count": null,
      "outputs": []
    },
    {
      "cell_type": "markdown",
      "source": "La función `np.meshgrid` se utiliza mucho a la hora de representar funciones en dos dimensiones, y crea dos arrays: uno varía por filas y otro por columnas. Combinándolos, podemos evaluar la función en un cuadrado.",
      "metadata": {}
    },
    {
      "cell_type": "code",
      "source": "x = np.linspace(0, 1, num=5)\ny = np.linspace(0, 1, num=5)\n\nxx, yy = np.meshgrid(x, y)",
      "metadata": {
        "collapsed": false,
        "jupyter": {
          "outputs_hidden": false
        },
        "trusted": true
      },
      "execution_count": null,
      "outputs": []
    },
    {
      "cell_type": "code",
      "source": "xx, yy",
      "metadata": {
        "collapsed": false,
        "jupyter": {
          "outputs_hidden": false
        },
        "trusted": true
      },
      "execution_count": null,
      "outputs": []
    },
    {
      "cell_type": "code",
      "source": "xx + 1j * yy",
      "metadata": {
        "collapsed": false,
        "jupyter": {
          "outputs_hidden": false
        },
        "trusted": true
      },
      "execution_count": null,
      "outputs": []
    },
    {
      "cell_type": "markdown",
      "source": "## 3.6. Operaciones con arrays\n\nLas **funciones universales** (`ufunc`) operan sobre arrays de NumPy elemento a elemento y siguiendo las reglas de _broadcasting_.\n\n* Funciones matemáticas: `sin`, `cos`, `sqrt`, `exp`, ...\n* Operaciones lógicas: `<`, `~`, ...\n* Funciones lógicas: `all`, `any`, `isnan`, `allclose`, ...",
      "metadata": {
        "slideshow": {
          "slide_type": "slide"
        }
      }
    },
    {
      "cell_type": "markdown",
      "source": "<div class=\"alert alert-warning\">**Nota**: Las funciones matemáticas siempre devuelven el mismo tipo de datos de entrada</div>",
      "metadata": {
        "slideshow": {
          "slide_type": "fragment"
        }
      }
    },
    {
      "cell_type": "code",
      "source": "a = np.arange(2 * 3).reshape(2, 3)\na",
      "metadata": {
        "collapsed": false,
        "jupyter": {
          "outputs_hidden": false
        },
        "trusted": true
      },
      "execution_count": null,
      "outputs": []
    },
    {
      "cell_type": "code",
      "source": "np.sqrt(a)",
      "metadata": {
        "collapsed": false,
        "jupyter": {
          "outputs_hidden": false
        },
        "trusted": true
      },
      "execution_count": null,
      "outputs": []
    },
    {
      "cell_type": "code",
      "source": "np.sqrt(np.arange(-3, 3))",
      "metadata": {
        "collapsed": false,
        "jupyter": {
          "outputs_hidden": false
        },
        "trusted": true
      },
      "execution_count": null,
      "outputs": []
    },
    {
      "cell_type": "code",
      "source": "np.arange(-3, 3).astype(complex)",
      "metadata": {
        "collapsed": false,
        "jupyter": {
          "outputs_hidden": false
        },
        "trusted": true
      },
      "execution_count": null,
      "outputs": []
    },
    {
      "cell_type": "code",
      "source": "np.sqrt(_)",
      "metadata": {
        "collapsed": false,
        "jupyter": {
          "outputs_hidden": false
        },
        "trusted": true
      },
      "execution_count": null,
      "outputs": []
    },
    {
      "cell_type": "markdown",
      "source": "### 3.6.1. Funciones de comparación\n\nLas comparaciones devuelven un array de booleanos:",
      "metadata": {
        "slideshow": {
          "slide_type": "slide"
        }
      }
    },
    {
      "cell_type": "code",
      "source": "a = np.arange(6)\nb = np.ones(6).astype(int)\na, b",
      "metadata": {
        "collapsed": false,
        "jupyter": {
          "outputs_hidden": false
        },
        "trusted": true
      },
      "execution_count": null,
      "outputs": []
    },
    {
      "cell_type": "code",
      "source": "a < b",
      "metadata": {
        "collapsed": false,
        "jupyter": {
          "outputs_hidden": false
        },
        "trusted": true
      },
      "execution_count": null,
      "outputs": []
    },
    {
      "cell_type": "code",
      "source": "np.any(a < b)",
      "metadata": {
        "collapsed": false,
        "jupyter": {
          "outputs_hidden": false
        },
        "trusted": true
      },
      "execution_count": null,
      "outputs": []
    },
    {
      "cell_type": "code",
      "source": "np.all(a < b)",
      "metadata": {
        "collapsed": false,
        "jupyter": {
          "outputs_hidden": false
        },
        "trusted": true
      },
      "execution_count": null,
      "outputs": []
    },
    {
      "cell_type": "code",
      "source": "a = np.arange(6).astype(float)\nb = np.ones(6)\na, b",
      "metadata": {
        "collapsed": false,
        "jupyter": {
          "outputs_hidden": false
        },
        "trusted": true
      },
      "execution_count": null,
      "outputs": []
    },
    {
      "cell_type": "markdown",
      "source": "Las funciones `isclose` y `allclose` realizan comparaciones entre arrays especificando una tolerancia:",
      "metadata": {}
    },
    {
      "cell_type": "code",
      "source": "np.isclose(a, b, rtol=1e-6)",
      "metadata": {
        "collapsed": false,
        "jupyter": {
          "outputs_hidden": false
        },
        "trusted": true
      },
      "execution_count": null,
      "outputs": []
    },
    {
      "cell_type": "code",
      "source": "np.allclose(a, b, rtol=1e-6)",
      "metadata": {
        "collapsed": false,
        "jupyter": {
          "outputs_hidden": false
        },
        "trusted": true
      },
      "execution_count": null,
      "outputs": []
    },
    {
      "cell_type": "markdown",
      "source": "**¡Importante!** Las operaciones matemáticas con estos números producen casi siempre resultados poco intuitivos y hay que tener cuidado con ellas. Para una introducción a estas peculiaridades existe la web http://puntoflotante.org/.",
      "metadata": {}
    },
    {
      "cell_type": "code",
      "source": "0.1 + 0.2 + 0.3",
      "metadata": {
        "collapsed": false,
        "jupyter": {
          "outputs_hidden": false
        },
        "trusted": true
      },
      "execution_count": null,
      "outputs": []
    },
    {
      "cell_type": "code",
      "source": "0.3 + 0.2 + 0.1",
      "metadata": {
        "collapsed": false,
        "jupyter": {
          "outputs_hidden": false
        },
        "trusted": true
      },
      "execution_count": null,
      "outputs": []
    },
    {
      "cell_type": "code",
      "source": "0.1 + 0.2 + 0.3 == 0.3 + 0.2 + 0.1",
      "metadata": {
        "collapsed": false,
        "jupyter": {
          "outputs_hidden": false
        },
        "trusted": true
      },
      "execution_count": null,
      "outputs": []
    },
    {
      "cell_type": "markdown",
      "source": "# 4. Visualización con *matplotlib*",
      "metadata": {}
    },
    {
      "cell_type": "markdown",
      "source": "## 4.1. ¿Qué es matplotlib?",
      "metadata": {}
    },
    {
      "cell_type": "markdown",
      "source": "* Estándar *de facto* para visualización en Python\n* Pretende ser similar a las funciones de visualización de MATLAB\n* Diferentes formas de usarla: interfaz `pyplot` y orientada a objetos",
      "metadata": {}
    },
    {
      "cell_type": "markdown",
      "source": "Importamos los paquetes necesarios:",
      "metadata": {}
    },
    {
      "cell_type": "code",
      "source": "import numpy as np\nimport matplotlib.pyplot as plt",
      "metadata": {
        "collapsed": false,
        "jupyter": {
          "outputs_hidden": false
        },
        "trusted": true
      },
      "execution_count": null,
      "outputs": []
    },
    {
      "cell_type": "markdown",
      "source": "La biblioteca matplotlib es gigantesca y es difícil hacerse una idea global de todas sus posibilidades en una primera toma de contacto. Es recomendable tener a mano la documentación y la galería:",
      "metadata": {}
    },
    {
      "cell_type": "markdown",
      "source": "## 4.2. Interfaz pyplot",
      "metadata": {}
    },
    {
      "cell_type": "markdown",
      "source": "### 4.2.1. Función `plot`",
      "metadata": {}
    },
    {
      "cell_type": "markdown",
      "source": "La interfaz `pyplot` proporciona una serie de funciones que operan sobre un *estado global* - es decir, nosotros no especificamos sobre qué gráfica o ejes estamos actuando. Es una forma rápida y cómoda de crear gráficas pero perdemos parte del control.",
      "metadata": {}
    },
    {
      "cell_type": "markdown",
      "source": "El paquete `pyplot` se suele importar bajo el alias `plt`, de modo que todas las funciones se acceden a través de `plt.<funcion>`. La función más básica es la función `plot`:",
      "metadata": {}
    },
    {
      "cell_type": "code",
      "source": "plt.plot([0, 0.1, 0.2, 0.5,0.6], [1, -1, 0, 3, -1])",
      "metadata": {
        "collapsed": false,
        "jupyter": {
          "outputs_hidden": false
        },
        "trusted": true
      },
      "execution_count": null,
      "outputs": []
    },
    {
      "cell_type": "markdown",
      "source": "La función `plot` recibe una sola lista (si queremos especificar los valores *y*) o dos listas (si especificamos *x* e *y*). Naturalmente si especificamos dos listas ambas tienen que tener la misma longitud.",
      "metadata": {}
    },
    {
      "cell_type": "markdown",
      "source": "La tarea más habitual a la hora de trabajar con matplotlib es representar una función. Lo que tendremos que hacer es definir un dominio y evaluarla en dicho dominio. Por ejemplo:",
      "metadata": {}
    },
    {
      "cell_type": "markdown",
      "source": "$$f(x) = e^{-x^2}$$",
      "metadata": {}
    },
    {
      "cell_type": "code",
      "source": "def f(x):\n    return np.exp(-x ** 2)",
      "metadata": {
        "collapsed": false,
        "jupyter": {
          "outputs_hidden": false
        },
        "trusted": true
      },
      "execution_count": null,
      "outputs": []
    },
    {
      "cell_type": "markdown",
      "source": "Definimos el dominio con la función `np.linspace`, que crea un vector de puntos equiespaciados:",
      "metadata": {}
    },
    {
      "cell_type": "code",
      "source": "x = np.linspace(-1, 5, num=30)",
      "metadata": {
        "collapsed": false,
        "jupyter": {
          "outputs_hidden": false
        },
        "trusted": true
      },
      "execution_count": null,
      "outputs": []
    },
    {
      "cell_type": "markdown",
      "source": "Y representamos la función:",
      "metadata": {}
    },
    {
      "cell_type": "code",
      "source": "plt.plot(x, f(x), label=\"Función f(x)\")\nplt.xlabel(\"Eje $x$\")\nplt.ylabel(\"$f(x)$\")\nplt.legend()\nplt.title(\"Función $f(x)$\")",
      "metadata": {
        "collapsed": false,
        "jupyter": {
          "outputs_hidden": false
        },
        "trusted": true
      },
      "execution_count": null,
      "outputs": []
    },
    {
      "cell_type": "markdown",
      "source": "Notamos varias cosas:\n\n* Con diversas llamadas a funciones dentro de `plt.` se actualiza el gráfico *actual*. Esa es la forma de trabajar con la interfaz pyplot.\n* Podemos añadir etiquetas, y escribir $\\LaTeX$ en ellas. Tan solo hay que encerrarlo entre signos de dólar $$.",
      "metadata": {}
    },
    {
      "cell_type": "markdown",
      "source": "### 4.2.2. Personalización",
      "metadata": {}
    },
    {
      "cell_type": "markdown",
      "source": "La función `plot` acepta una serie de argumentos para personalizar el aspecto de la función. Con una letra podemos especificar el color, y con un símbolo el tipo de línea.",
      "metadata": {}
    },
    {
      "cell_type": "code",
      "source": "plt.plot(x, f(x), 'ro')\nplt.plot(x, 1 - f(x), 'g--')",
      "metadata": {
        "collapsed": false,
        "jupyter": {
          "outputs_hidden": false
        },
        "trusted": true
      },
      "execution_count": null,
      "outputs": []
    },
    {
      "cell_type": "markdown",
      "source": "Esto en realidad son códigos abreviados, que se corresponden con argumentos de la función `plot`:",
      "metadata": {}
    },
    {
      "cell_type": "code",
      "source": "plt.plot(x, f(x), color='red', linestyle='', marker='o')\nplt.plot(x, 1 - f(x), c='g', ls='--')",
      "metadata": {
        "collapsed": false,
        "jupyter": {
          "outputs_hidden": false
        },
        "trusted": true
      },
      "execution_count": null,
      "outputs": []
    },
    {
      "cell_type": "markdown",
      "source": "La lista de posibles argumentos y abreviaturas está disponible en la documentación de la función `plot` http://matplotlib.org/api/pyplot_api.html#matplotlib.pyplot.plot.",
      "metadata": {}
    },
    {
      "cell_type": "markdown",
      "source": "### 4.2.3. Otro tipo de gráficas",
      "metadata": {}
    },
    {
      "cell_type": "markdown",
      "source": "La función `scatter` muestra una nube de puntos, con posibilidad de variar también el tamaño y el color.",
      "metadata": {}
    },
    {
      "cell_type": "code",
      "source": "N = 100\nx = np.random.randn(N)\ny = np.random.randn(N)\n\nplt.scatter(x, y)",
      "metadata": {
        "collapsed": false,
        "jupyter": {
          "outputs_hidden": false
        },
        "trusted": true
      },
      "execution_count": null,
      "outputs": []
    },
    {
      "cell_type": "markdown",
      "source": "Con `s` y `c` podemos modificar el tamaño y el color respectivamente. Para el color, a cada valor numérico se le asigna un color a través de un *mapa de colores*; ese mapa se puede cambiar con el argumento `cmap`. Esa correspondencia se puede visualizar llamando a la función `colorbar`.",
      "metadata": {}
    },
    {
      "cell_type": "code",
      "source": "s = 50 + 50 * np.random.randn(N)\nc = np.random.randn(N)\n\nplt.scatter(x, y, s=s, c=c, cmap=plt.cm.Blues)\nplt.colorbar()",
      "metadata": {
        "collapsed": false,
        "jupyter": {
          "outputs_hidden": false
        },
        "trusted": true
      },
      "execution_count": null,
      "outputs": []
    },
    {
      "cell_type": "code",
      "source": "plt.scatter(x, y, s=s, c=c, cmap=plt.cm.Oranges)\nplt.colorbar()",
      "metadata": {
        "collapsed": false,
        "jupyter": {
          "outputs_hidden": false
        },
        "trusted": true
      },
      "execution_count": null,
      "outputs": []
    },
    {
      "cell_type": "markdown",
      "source": "La función `contour` se utiliza para visualizar las curvas de nivel de funciones de dos variables y está muy ligada a la función `np.meshgrid`. Veamos un ejemplo:\n\n$$f(x) = \\cos{x} + \\sin^2{y}$$",
      "metadata": {}
    },
    {
      "cell_type": "code",
      "source": "def f(x, y):\n    return np.cos(x) + np.sin(y) ** 2",
      "metadata": {
        "collapsed": false,
        "jupyter": {
          "outputs_hidden": false
        },
        "trusted": true
      },
      "execution_count": null,
      "outputs": []
    },
    {
      "cell_type": "code",
      "source": "x = np.linspace(-2, 2)\ny = np.linspace(-2, 2)\nxx, yy = np.meshgrid(x, y)\n\nplt.contour(xx, yy, f(xx, yy))\nplt.colorbar()",
      "metadata": {
        "collapsed": false,
        "jupyter": {
          "outputs_hidden": false
        },
        "trusted": true
      },
      "execution_count": null,
      "outputs": []
    },
    {
      "cell_type": "markdown",
      "source": "La función `contourf` es casi idéntica pero rellena el espacio entre niveles. Podemos especificar manualmente estos niveles usando el cuarto argumento:",
      "metadata": {}
    },
    {
      "cell_type": "code",
      "source": "zz = f(xx, yy)\nplt.contourf(xx, yy, zz, np.linspace(-0.5, 2.0))\nplt.colorbar()",
      "metadata": {
        "collapsed": false,
        "jupyter": {
          "outputs_hidden": false
        },
        "trusted": true
      },
      "execution_count": null,
      "outputs": []
    },
    {
      "cell_type": "markdown",
      "source": "Para guardar las gráficas en archivos aparte podemos usar la función `plt.savefig`. matplotlib usará el tipo de archivo adecuado según la extensión que especifiquemos. Veremos esto con más detalle cuando hablemos de la interfaz orientada a objetos.",
      "metadata": {}
    },
    {
      "cell_type": "markdown",
      "source": "## 4.3. Ejemplo con datos reales",
      "metadata": {}
    },
    {
      "cell_type": "code",
      "source": "datos = np.loadtxt(\"temperaturas.csv\", usecols=(1, 2, 3), skiprows=1, delimiter=',')",
      "metadata": {
        "collapsed": false,
        "jupyter": {
          "outputs_hidden": false
        },
        "trusted": true
      },
      "execution_count": null,
      "outputs": []
    },
    {
      "cell_type": "code",
      "source": "fig, axes = plt.subplots()\n\nx = np.arange(len(datos[:, 1]))\n\ntemp_media = (datos[:, 1] + datos[:, 2]) / 2\n\naxes.plot(x, datos[:, 1], 'r')\naxes.plot(x, datos[:, 2], 'b')\naxes.plot(x, temp_media, 'k')",
      "metadata": {
        "collapsed": false,
        "jupyter": {
          "outputs_hidden": false
        },
        "trusted": true
      },
      "execution_count": null,
      "outputs": []
    },
    {
      "cell_type": "markdown",
      "source": "# 5. Biblioteca *SciPy*",
      "metadata": {}
    },
    {
      "cell_type": "markdown",
      "source": "## 5.1. ¿Qué es SciPy?",
      "metadata": {}
    },
    {
      "cell_type": "markdown",
      "source": "* Conjunto de paquetes para computación científica general\n* Integración, optimización, interpolación, procesamiento de señales digitales, estadísticas...\n* Normalmente interfaces a programas muy utilizados escritos en Fortran, o C++",
      "metadata": {}
    },
    {
      "cell_type": "markdown",
      "source": "## 5.2.  Integración numérica",
      "metadata": {}
    },
    {
      "cell_type": "markdown",
      "source": "Para integración numérica e integración de ecuaciones diferenciales, SciPy proporciona el paquete `integrate`.",
      "metadata": {}
    },
    {
      "cell_type": "code",
      "source": "from scipy import integrate",
      "metadata": {
        "collapsed": false,
        "jupyter": {
          "outputs_hidden": false
        },
        "trusted": true
      },
      "execution_count": null,
      "outputs": []
    },
    {
      "cell_type": "markdown",
      "source": "Por ejemplo, supongamos que queremos integrar esta función:",
      "metadata": {}
    },
    {
      "cell_type": "markdown",
      "source": "$$f(x) = e^{-x^2}$$",
      "metadata": {}
    },
    {
      "cell_type": "markdown",
      "source": "Debemos definir una función en Python cuyo argumento sea la variable de integración:",
      "metadata": {}
    },
    {
      "cell_type": "code",
      "source": "def f(x):\n    return np.exp(-x ** 2)",
      "metadata": {
        "jupyter": {
          "outputs_hidden": false
        },
        "collapsed": false,
        "trusted": true
      },
      "execution_count": null,
      "outputs": []
    },
    {
      "cell_type": "markdown",
      "source": "Y ahora simplemente utilizamos la función `quad`, que recibe como argumentos la función y los límites de integración.",
      "metadata": {}
    },
    {
      "cell_type": "code",
      "source": "integrate.quad(f, 0, 5)",
      "metadata": {
        "collapsed": false,
        "jupyter": {
          "outputs_hidden": false
        },
        "trusted": true
      },
      "execution_count": null,
      "outputs": []
    },
    {
      "cell_type": "markdown",
      "source": "Se devuelve el resultado de la integración y una estimación del error cometido.",
      "metadata": {}
    },
    {
      "cell_type": "markdown",
      "source": "Puede darse el caso en que nuestra función dependa de un cierto número de parámetros:",
      "metadata": {}
    },
    {
      "cell_type": "markdown",
      "source": "$$f(x) = A e^{-B x^2}$$",
      "metadata": {}
    },
    {
      "cell_type": "markdown",
      "source": "En este caso, debemos seguir respetando que el primer argumento es la variable de integración, pero a partir de ahí podemos añadir todos los argumentos que queramos:",
      "metadata": {}
    },
    {
      "cell_type": "code",
      "source": "def f(x, A, B):\n    return A * np.exp(-B * x ** 2)",
      "metadata": {
        "collapsed": false,
        "jupyter": {
          "outputs_hidden": false
        },
        "trusted": true
      },
      "execution_count": null,
      "outputs": []
    },
    {
      "cell_type": "markdown",
      "source": "A la hora de integrar esta función, tendremos que usar el parámetro `args` para dar valores  los argumentos extra de la función:",
      "metadata": {}
    },
    {
      "cell_type": "code",
      "source": "integrate.quad(f, 0, 5, args=(1.0, 1.0))",
      "metadata": {
        "collapsed": false,
        "jupyter": {
          "outputs_hidden": false
        },
        "trusted": true
      },
      "execution_count": null,
      "outputs": []
    },
    {
      "cell_type": "markdown",
      "source": "## 5.3. Ecuaciones diferenciales ordinarias (EDOs)",
      "metadata": {}
    },
    {
      "cell_type": "markdown",
      "source": "Dentro del paquete `integrate` tenemos también funciones para resolver ecuaciones diferenciales ordinarias (EDOs), como es el caso de la función `odeint`. Esta función puede resolver cualquier sistema del tipo:",
      "metadata": {}
    },
    {
      "cell_type": "markdown",
      "source": "Por ejemplo, supongamos que queremos resolver la ecuación diferencial:",
      "metadata": {}
    },
    {
      "cell_type": "markdown",
      "source": "$$y' + y = 0$$\n\n$$y' = f(y)$$",
      "metadata": {}
    },
    {
      "cell_type": "markdown",
      "source": "Hemos de definir la función del sistema, las condiciones iniciales y el vector de tiempos donde realizaremos la integración.",
      "metadata": {}
    },
    {
      "cell_type": "code",
      "source": "def f(y, t):\n    return -y",
      "metadata": {
        "collapsed": false,
        "jupyter": {
          "outputs_hidden": false
        },
        "trusted": true
      },
      "execution_count": null,
      "outputs": []
    },
    {
      "cell_type": "code",
      "source": "y0 = 1.0",
      "metadata": {
        "jupyter": {
          "outputs_hidden": false
        },
        "collapsed": false,
        "trusted": true
      },
      "execution_count": null,
      "outputs": []
    },
    {
      "cell_type": "code",
      "source": "t = np.linspace(0, 3)",
      "metadata": {
        "jupyter": {
          "outputs_hidden": false
        },
        "collapsed": false,
        "trusted": true
      },
      "execution_count": null,
      "outputs": []
    },
    {
      "cell_type": "code",
      "source": "sol = integrate.odeint(f, y0, t)",
      "metadata": {
        "collapsed": false,
        "jupyter": {
          "outputs_hidden": false
        },
        "trusted": true
      },
      "execution_count": null,
      "outputs": []
    },
    {
      "cell_type": "code",
      "source": "plt.plot(t, sol)",
      "metadata": {
        "collapsed": false,
        "jupyter": {
          "outputs_hidden": false
        },
        "trusted": true
      },
      "execution_count": null,
      "outputs": []
    },
    {
      "cell_type": "markdown",
      "source": "Y se obtiene la solución esperada: un decaimiento exponencial.",
      "metadata": {}
    },
    {
      "cell_type": "markdown",
      "source": "Para resolver ecuaciones de orden superior, habrá que realizar una reducción de orden:",
      "metadata": {}
    },
    {
      "cell_type": "markdown",
      "source": "$$y'' + y = 0$$",
      "metadata": {}
    },
    {
      "cell_type": "markdown",
      "source": "$$\\mathbf{f}(\\mathbf{y}) = \\pmatrix{y \\\\ y'}' = \\pmatrix{y' \\\\ y''} = \\pmatrix{y' \\\\ -y}$$",
      "metadata": {}
    },
    {
      "cell_type": "code",
      "source": "def f(y, t):\n    return np.array([y[1], -y[0]])",
      "metadata": {
        "jupyter": {
          "outputs_hidden": false
        },
        "collapsed": false,
        "trusted": true
      },
      "execution_count": null,
      "outputs": []
    },
    {
      "cell_type": "code",
      "source": "t = np.linspace(0, 10)",
      "metadata": {
        "collapsed": false,
        "jupyter": {
          "outputs_hidden": false
        },
        "trusted": true
      },
      "execution_count": null,
      "outputs": []
    },
    {
      "cell_type": "code",
      "source": "y0 = np.array([1.0, 0.0])",
      "metadata": {
        "collapsed": false,
        "jupyter": {
          "outputs_hidden": false
        },
        "trusted": true
      },
      "execution_count": null,
      "outputs": []
    },
    {
      "cell_type": "code",
      "source": "sol = integrate.odeint(f, y0, t)",
      "metadata": {
        "collapsed": false,
        "jupyter": {
          "outputs_hidden": false
        },
        "trusted": true
      },
      "execution_count": null,
      "outputs": []
    },
    {
      "cell_type": "code",
      "source": "plt.plot(t, sol[:, 0], label='$y$')\nplt.plot(t, sol[:, 1], '--k', label='$\\dot{y}$')\nplt.legend()",
      "metadata": {
        "jupyter": {
          "outputs_hidden": false
        },
        "collapsed": false,
        "trusted": true
      },
      "execution_count": null,
      "outputs": []
    },
    {
      "cell_type": "markdown",
      "source": "## 5.3. Ecuaciones algebraicas no lineales",
      "metadata": {}
    },
    {
      "cell_type": "markdown",
      "source": "El paquete `optimize` contiene unas cuantas funciones para optimización con y sin restricciones, minimización de funciones, múltiples algoritmos... Ahora nos vamos a concentrar en la búsqueda de ceros de funciones, utilizando la función `root`.",
      "metadata": {}
    },
    {
      "cell_type": "code",
      "source": "from scipy import optimize",
      "metadata": {
        "jupyter": {
          "outputs_hidden": false
        },
        "collapsed": false,
        "trusted": true
      },
      "execution_count": null,
      "outputs": []
    },
    {
      "cell_type": "markdown",
      "source": "Por ejemplo, esta sería la función necesaria para resolver la ecuación de Kepler:",
      "metadata": {}
    },
    {
      "cell_type": "markdown",
      "source": "$$M = E - e \\sin{E}$$\n\n$$F(E) = E - e \\sin{E} - M$$",
      "metadata": {}
    },
    {
      "cell_type": "code",
      "source": "def F(E, e, M):\n    return E - e * np.sin(E) - M",
      "metadata": {
        "collapsed": false,
        "jupyter": {
          "outputs_hidden": false
        },
        "trusted": true
      },
      "execution_count": null,
      "outputs": []
    },
    {
      "cell_type": "markdown",
      "source": "La función `root` recibe como argumento la función de la ecuación, la condición inicial y posibles argumentos extra de la función.",
      "metadata": {}
    },
    {
      "cell_type": "code",
      "source": "sol = optimize.root(F, 0.1, args=(0.016, 0.1))\nsol.x",
      "metadata": {
        "jupyter": {
          "outputs_hidden": false
        },
        "collapsed": false,
        "trusted": true
      },
      "execution_count": null,
      "outputs": []
    }
  ]
}