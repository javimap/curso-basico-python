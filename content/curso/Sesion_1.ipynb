{
  "metadata": {
    "toc-showtags": false,
    "language_info": {
      "codemirror_mode": {
        "name": "python",
        "version": 3
      },
      "file_extension": ".py",
      "mimetype": "text/x-python",
      "name": "python",
      "nbconvert_exporter": "python",
      "pygments_lexer": "ipython3",
      "version": "3.8"
    },
    "kernelspec": {
      "name": "python",
      "display_name": "Python (Pyodide)",
      "language": "python"
    }
  },
  "nbformat_minor": 4,
  "nbformat": 4,
  "cells": [
    {
      "cell_type": "markdown",
      "source": "# 1. Introducción\n\n## 1.1. ¿Qué es Python?\n**Python** es un **lenguaje de programación** con las siguientes características fundamientales:\n- De **alto nivel**, es decir, consiste en una estructura sintáctica y semántica legible, acorde a las capacidades cognitivas humanas. A diferencia de los lenguajes de bajo nivel, es independientes de la arquitectura del hardware, motivo por el cual, tiene una mayor portabilidad.\n- Es **interpretado**. A diferencia de los compilados, no requiere de un compilador para ser ejecutado sino de un intérprete. Un intérprete, actúa de manera casi idéntica a un compilador, con la salvedad de que ejecuta el programa directamente, sin necesidad de generar previamente un ejecutable.\n- **Tipado dinámico**: un lenguaje de tipado dinámico es aquel cuyas variables, no requieren ser definidas asignando su tipo de datos, sino que éste, se auto-asigna en tiempo de ejecución, según el valor declarado.\n- Es **multiplataforma** lo cual significa que puede ser interpretado en diversos sistemas operativos como GNU/Linux, Windows, Mac OS, entre otros.\n\n## 1.2. JupyterLab y los *notebooks*\n**JupyterLab** es un entorno de desarrollo interactivo basado en web. Permite trabajar con diferentes documentos en distintos entornos tales como *notebooks*, editores de texto, terminales y componentes personalizados de forma flexible, integrada y extensible. Es la interfaz que estás viendo ahora mismo.\n\nLos ***notebooks*** son un estándar para comunicar y realizar cálculos interactivos. Son documentos que combinan cálculos, resultados, texto explicativo, matemáticas, imágenes y representaciones multimedia de objetos. La interfaz es similar a un intérprete, pero está estructurada en **celdas**. Existen dos tipos de celdas editables: celdas de **código** y celdas de **texto enriquecido**.\n\nCada celda de código está numerada secuencialmente mediante la expresión `[<n>]`. Para ejecutar el código que se ha escrito en una celda basta con hacer click el triángulo (\"Run cell\") o usar el atajo `shift + Enter`. El resultado o salida de la celda se muestra debajo de ésta con la misma numeración `[<n>]`. Este resultado no es editable.",
      "metadata": {}
    },
    {
      "cell_type": "markdown",
      "source": "# 2. Sintaxis básica\n## 2.1. Operaciones aritméticas y asignación de variables\nEntre otros, disponemos de los operadores aritméticos habituales:\n<div class=\"table\" id=\"table-2-1\">\n<table>\n<thead>\n<tr>\n<th>Símbolo</th>\n<th>Significado</th>\n<th>Ejemplo</th>\n<th>Resultado</th>\n</tr>\n</thead>\n<tbody>\n<tr>\n<td><code>+</code></td>\n<td>Suma</td>\n<td><code>a = 10 + 5</code></td>\n<td><code>a</code> es <code>15</code></td>\n</tr>\n<tr>\n<td><code>-</code></td>\n<td>Resta</td>\n<td><code>a = 12 - 7</code></td>\n<td><code>a</code> es <code>5</code></td>\n</tr>\n<tr>\n<td><code>-</code></td>\n<td>Negativo</td>\n<td><code>a = -5</code></td>\n<td><code>a</code> es <code>-5</code></td>\n</tr>\n<tr>\n<td><code>*</code></td>\n<td>Multiplicación</td>\n<td><code>a = 7 * 5</code></td>\n<td><code>a</code> es <code>35</code></td>\n</tr>\n<tr>\n<td><code>**</code></td>\n<td>Potencia</td>\n<td><code>a = 2 ** 3</code></td>\n<td><code>a</code> es <code>8</code></td>\n</tr>\n<tr>\n<td><code>/</code></td>\n<td>División</td>\n<td><code>a = 12.5 / 2</code></td>\n<td><code>a</code> es <code>6.25</code></td>\n</tr>\n<tr>\n<td><code>//</code></td>\n<td>División entera</td>\n<td><code>a = 12.5 // 2</code></td>\n<td><code>a</code> es <code>6.0</code></td>\n</tr>\n<tr>\n<td><code>%</code></td>\n<td>Módulo</td>\n<td><code>a = 27 % 4</code></td>\n<td><code>a</code> es <code>3</code></td>\n</tr>\n</tbody>\n</table>\n</div>",
      "metadata": {
        "tags": []
      }
    },
    {
      "cell_type": "code",
      "source": "2 * 4 - (7 - 1) / 3 + 1",
      "metadata": {
        "trusted": true
      },
      "execution_count": null,
      "outputs": []
    },
    {
      "cell_type": "markdown",
      "source": "La división por cero lanza un error:",
      "metadata": {}
    },
    {
      "cell_type": "code",
      "source": "1 / 0",
      "metadata": {
        "trusted": true
      },
      "execution_count": null,
      "outputs": []
    },
    {
      "cell_type": "markdown",
      "source": "La forma de asignar variables es `<nombre_variable> = <expresión>`:",
      "metadata": {}
    },
    {
      "cell_type": "code",
      "source": "a = 5",
      "metadata": {
        "trusted": true
      },
      "execution_count": null,
      "outputs": []
    },
    {
      "cell_type": "code",
      "source": "b = (3 + 2) * 3",
      "metadata": {
        "trusted": true
      },
      "execution_count": null,
      "outputs": []
    },
    {
      "cell_type": "markdown",
      "source": "Python no muestra el valor asignado salvo que lo especifiquemos:",
      "metadata": {}
    },
    {
      "cell_type": "code",
      "source": "b",
      "metadata": {
        "trusted": true
      },
      "execution_count": null,
      "outputs": []
    },
    {
      "cell_type": "markdown",
      "source": "También podemos emplear la función `print()`:",
      "metadata": {}
    },
    {
      "cell_type": "code",
      "source": "print(a)\nprint(b)",
      "metadata": {
        "trusted": true
      },
      "execution_count": null,
      "outputs": []
    },
    {
      "cell_type": "markdown",
      "source": "Se pueden rescatar los resultados de celdas anteriormente ejecutadas mediante la expresión `_n`:",
      "metadata": {}
    },
    {
      "cell_type": "code",
      "source": "_1",
      "metadata": {
        "trusted": true
      },
      "execution_count": null,
      "outputs": []
    },
    {
      "cell_type": "markdown",
      "source": "Y el último resultado mediante `_`:",
      "metadata": {}
    },
    {
      "cell_type": "code",
      "source": "_",
      "metadata": {
        "trusted": true
      },
      "execution_count": null,
      "outputs": []
    },
    {
      "cell_type": "markdown",
      "source": "Podemos asignar a una variable el valor de otra, el de una celda o cualquier combianción:",
      "metadata": {}
    },
    {
      "cell_type": "code",
      "source": "c = b + _1 + a\nc",
      "metadata": {
        "trusted": true
      },
      "execution_count": null,
      "outputs": []
    },
    {
      "cell_type": "markdown",
      "source": "Finalmente, podemos asignar valores a distintas variables de forma secuencial en una misma linea mediante la **asignación múltiple** o **paralela**:",
      "metadata": {}
    },
    {
      "cell_type": "code",
      "source": "a, b, c = 5, 7 + 4, _1\na\nb\nc",
      "metadata": {
        "trusted": true
      },
      "execution_count": null,
      "outputs": []
    },
    {
      "cell_type": "code",
      "source": "a, b, c = 5, 7 + 4, _1\nprint(a)\nprint(b)\nprint(c)\nprint(a, b, c)\nprint(f\"a vale {a}, b vale {b} y c vale {c}\")",
      "metadata": {
        "trusted": true
      },
      "execution_count": null,
      "outputs": []
    },
    {
      "cell_type": "code",
      "source": "_",
      "metadata": {
        "trusted": true
      },
      "execution_count": null,
      "outputs": []
    },
    {
      "cell_type": "markdown",
      "source": "> Nota: La función `print` no devuelve un resultado, simplemente imprime en pantalla.",
      "metadata": {}
    },
    {
      "cell_type": "markdown",
      "source": "> **Ejercicio**: Definir dos variables asignándoles un valor numérico cualquiera (ojo! Sólo dos variables pueden ser definidas con un valor numérico) e intercambiar los valores de las variables (a esta operación se le conoce como [*swap*](https://hmong.es/wiki/Swap_(computer_programming))).",
      "metadata": {}
    },
    {
      "cell_type": "code",
      "source": "# No vale lo siguiente:\na = 0\nb = 1\na = 1\nb = 0\nprint(a)\nprint(b)",
      "metadata": {
        "trusted": true
      },
      "execution_count": null,
      "outputs": []
    },
    {
      "cell_type": "markdown",
      "source": "## 2.2. Tipos de datos numéricos\nPodemos emplear tres tipos de datos numéricos:\n- Enteros (`int`).\n- Reales o de coma flotante ([`float`](https://es.wikipedia.org/wiki/Coma_flotante)).\n- Complejos (`complex`).\n\nLa función `type()` nos devuelve el tipo de dato que manejamos.",
      "metadata": {}
    },
    {
      "cell_type": "code",
      "source": "type(5)",
      "metadata": {
        "trusted": true
      },
      "execution_count": null,
      "outputs": []
    },
    {
      "cell_type": "markdown",
      "source": "Si queremos que Python interprete un número con parte decimal nula como un número real debemos indicar que existe parte decimal:",
      "metadata": {}
    },
    {
      "cell_type": "code",
      "source": "type(5.0)",
      "metadata": {
        "trusted": true
      },
      "execution_count": null,
      "outputs": []
    },
    {
      "cell_type": "code",
      "source": "type(5.)",
      "metadata": {
        "trusted": true
      },
      "execution_count": null,
      "outputs": []
    },
    {
      "cell_type": "markdown",
      "source": "También podemos omitir la parte entera de un número real si esta es nula:",
      "metadata": {}
    },
    {
      "cell_type": "code",
      "source": ".5",
      "metadata": {
        "trusted": true
      },
      "execution_count": null,
      "outputs": []
    },
    {
      "cell_type": "markdown",
      "source": "O emplear la forma [exponencial](https://es.wikipedia.org/wiki/Notaci%C3%B3n_cient%C3%ADfica#Notaci%C3%B3n_E):",
      "metadata": {}
    },
    {
      "cell_type": "code",
      "source": "5e-1",
      "metadata": {
        "trusted": true
      },
      "execution_count": null,
      "outputs": []
    },
    {
      "cell_type": "markdown",
      "source": "Vemos que el resultado es un número de coma flotante equivalente a `5*10**-1` ó $5\\times 10^{-1}$. Del mismo modo, se puede emplear esa expresión para potencias positivas de 10 cuyo resultado será un número real aunque éste tenga parte decimal nula:",
      "metadata": {}
    },
    {
      "cell_type": "code",
      "source": "mi_potencia = 7.569e13\nprint(mi_potencia)\ntype(mi_potencia)",
      "metadata": {
        "trusted": true
      },
      "execution_count": null,
      "outputs": []
    },
    {
      "cell_type": "markdown",
      "source": "Para definir números complejos podemos emplear la función `complex`. Veamos qué dice la ayuda:",
      "metadata": {}
    },
    {
      "cell_type": "code",
      "source": "# Podemos pedir que se imprima la información de un objeto empleando \"?\"\n?complex",
      "metadata": {
        "trusted": true
      },
      "execution_count": null,
      "outputs": []
    },
    {
      "cell_type": "code",
      "source": "complex(3,5)",
      "metadata": {
        "trusted": true
      },
      "execution_count": null,
      "outputs": []
    },
    {
      "cell_type": "code",
      "source": "3 + 5j",
      "metadata": {
        "trusted": true
      },
      "execution_count": null,
      "outputs": []
    },
    {
      "cell_type": "code",
      "source": "type(3 + 0j)",
      "metadata": {
        "trusted": true
      },
      "execution_count": null,
      "outputs": []
    },
    {
      "cell_type": "markdown",
      "source": "En ocasiones, cuando escribimos operaciones que involucran distintos tipos, Python promociona automáticamente el resultado a un tipo concreto:",
      "metadata": {}
    },
    {
      "cell_type": "code",
      "source": "3 * 2 + 5",
      "metadata": {
        "trusted": true
      },
      "execution_count": null,
      "outputs": []
    },
    {
      "cell_type": "code",
      "source": "3 * 2 + 5.0",
      "metadata": {
        "trusted": true
      },
      "execution_count": null,
      "outputs": []
    },
    {
      "cell_type": "code",
      "source": "3 * 2 + (5.0 + 0j)",
      "metadata": {
        "trusted": true
      },
      "execution_count": null,
      "outputs": []
    },
    {
      "cell_type": "code",
      "source": "12/3",
      "metadata": {
        "trusted": true
      },
      "execution_count": null,
      "outputs": []
    },
    {
      "cell_type": "markdown",
      "source": "También podemos forzar la promoción:",
      "metadata": {}
    },
    {
      "cell_type": "code",
      "source": "float(4)",
      "metadata": {
        "trusted": true
      },
      "execution_count": null,
      "outputs": []
    },
    {
      "cell_type": "code",
      "source": "int(4.6)",
      "metadata": {
        "trusted": true
      },
      "execution_count": null,
      "outputs": []
    },
    {
      "cell_type": "code",
      "source": "float(4.0 + 0j)",
      "metadata": {
        "trusted": true
      },
      "execution_count": null,
      "outputs": []
    },
    {
      "cell_type": "markdown",
      "source": "> Nota: Como se puede observar, la promoción a `float` o `int` de un valor de tipo complejo no es posible. Este *notebook* contiene errores que han sido incluidos intencionadamente.",
      "metadata": {}
    },
    {
      "cell_type": "markdown",
      "source": "## 2.3. El tipo booleano, comparadores y operaciones booleanas",
      "metadata": {}
    },
    {
      "cell_type": "markdown",
      "source": "El tipo [boolenano](https://es.wikipedia.org/wiki/%C3%81lgebra_de_Boole) (`bool`) solo admite dos valores: `True` o `False`. Los demás tipos pueden ser promocionados al tipo booleano y, de forma general, adoptarán el valor `True`. Solo unos pocos valores de el resto de los tipos toman el valor `False`:",
      "metadata": {}
    },
    {
      "cell_type": "code",
      "source": "bool(4.6)",
      "metadata": {
        "trusted": true
      },
      "execution_count": null,
      "outputs": []
    },
    {
      "cell_type": "code",
      "source": "bool(0)",
      "metadata": {
        "trusted": true
      },
      "execution_count": null,
      "outputs": []
    },
    {
      "cell_type": "code",
      "source": "bool(0 + 0j)",
      "metadata": {
        "trusted": true
      },
      "execution_count": null,
      "outputs": []
    },
    {
      "cell_type": "markdown",
      "source": "Estas son las **operaciones booleanas**, ordenadas de menor a mayor prioridad:\n<div class=\"table\" id=\"table-2-1\">\n<table class=\"docutils align-default\">\n<colgroup>\n<col style=\"width: 25%\">\n<col style=\"width: 62%\">\n<col style=\"width: 13%\">\n</colgroup>\n<thead>\n<tr class=\"row-odd\"><th class=\"head\"><p>Operación</p></th>\n<th class=\"head\"><p>Resultado</p></th>\n<th class=\"head\"><p>Notas</p></th>\n</tr>\n</thead>\n<tbody>\n<tr class=\"row-even\"><td><p><code class=\"docutils literal notranslate\"><span class=\"pre\">x</span> <span class=\"pre\">or</span> <span class=\"pre\">y</span></code></p></td>\n<td><p>Si <code>x</code> es <code>True</code>, entonces <code>x</code>, si no, <code>y</code></p></td>\n<td><p>(1)</p></td>\n</tr>\n<tr class=\"row-odd\"><td><p><code class=\"docutils literal notranslate\"><span class=\"pre\">x</span> <span class=\"pre\">and</span> <span class=\"pre\">y</span></code></p></td>\n<td><p>Si <code>x</code> es <code>False</code>, entonces <code>x</code>, si no, <code>y</code></p></td>\n<td><p>(2)</p></td>\n</tr>\n<tr class=\"row-even\"><td><p><code class=\"docutils literal notranslate\"><span class=\"pre\">not</span> <span class=\"pre\">x</span></code></p></td>\n<td><p>Si <code>x</code> es <code>False</code>, entonces <code class=\"docutils literal notranslate\"><span class=\"pre\">True</span></code>, si no, <code class=\"docutils literal notranslate\"><span class=\"pre\">False</span></code></p></td>\n<td><p>(3)</p></td>\n</tr>\n</tbody>\n</table>\n</div>\n\n> Notas:\n> 1) Este operador usa lógica cortocircuitada, por lo que solo evalúa el segundo argumento si el primero es falso.\n> 2) Este operador usa lógica cortocircuitada, por lo que solo evalúa el segundo argumento si el primero es verdadero.\n> 3) El operador not tiene menos prioridad que los operadores no booleanos, así que `not a == b` se interpreta como `not (a == b)`, y `a == not b` es un error sintáctico.",
      "metadata": {}
    },
    {
      "cell_type": "code",
      "source": "0 or 5",
      "metadata": {
        "trusted": true
      },
      "execution_count": null,
      "outputs": []
    },
    {
      "cell_type": "code",
      "source": "not 5",
      "metadata": {
        "trusted": true
      },
      "execution_count": null,
      "outputs": []
    },
    {
      "cell_type": "code",
      "source": "a = 0\na and 5/a # Cualquiera que sea el valor numérico de a, nunca obtendremos un error.",
      "metadata": {
        "trusted": true
      },
      "execution_count": null,
      "outputs": []
    },
    {
      "cell_type": "code",
      "source": "5/a and a # Esta expresión parece la misma pero no es así: Aquí no puede evitarse el error.",
      "metadata": {
        "trusted": true
      },
      "execution_count": null,
      "outputs": []
    },
    {
      "cell_type": "markdown",
      "source": "Esta tabla resume las **operaciones de comparación**:\n<table class=\"docutils align-default\">\n<colgroup>\n<col style=\"width: 32%\">\n<col style=\"width: 68%\">\n</colgroup>\n<thead>\n<tr class=\"row-odd\"><th class=\"head\"><p>Operación</p></th>\n<th class=\"head\"><p>Significado</p></th>\n</tr>\n</thead>\n<tbody>\n<tr class=\"row-even\"><td><p><code class=\"docutils literal notranslate\"><span class=\"pre\">&lt;</span></code></p></td>\n<td><p>estrictamente menor que</p></td>\n</tr>\n<tr class=\"row-odd\"><td><p><code class=\"docutils literal notranslate\"><span class=\"pre\">&lt;=</span></code></p></td>\n<td><p>menor o igual que</p></td>\n</tr>\n<tr class=\"row-even\"><td><p><code class=\"docutils literal notranslate\"><span class=\"pre\">&gt;</span></code></p></td>\n<td><p>estrictamente mayor que</p></td>\n</tr>\n<tr class=\"row-odd\"><td><p><code class=\"docutils literal notranslate\"><span class=\"pre\">&gt;=</span></code></p></td>\n<td><p>mayor o igual que</p></td>\n</tr>\n<tr class=\"row-even\"><td><p><code class=\"docutils literal notranslate\"><span class=\"pre\">==</span></code></p></td>\n<td><p>igual que</p></td>\n</tr>\n<tr class=\"row-odd\"><td><p><code class=\"docutils literal notranslate\"><span class=\"pre\">!=</span></code></p></td>\n<td><p>diferente que</p></td>\n</tr>\n<tr class=\"row-even\"><td><p><code class=\"docutils literal notranslate\"><span class=\"pre\">is</span></code></p></td>\n<td><p>igualdad a nivel de identidad (son el mismo objeto)</p></td>\n</tr>\n<tr class=\"row-odd\"><td><p><code class=\"docutils literal notranslate\"><span class=\"pre\">is</span> <span class=\"pre\">not</span></code></p></td>\n<td><p>desigualdad a nivel de identidad (no son el mismo objeto)</p></td>\n</tr>\n</tbody>\n</table>\n\nCuando realizamos comparaciones, el resultado siempre es un booleano:",
      "metadata": {}
    },
    {
      "cell_type": "code",
      "source": "x, y = 1, 2\nprint(x < y)\nprint(x <= y)\nprint(x > y)\nprint(x >= y)\nprint(x == y)\nprint(x != y)",
      "metadata": {
        "trusted": true
      },
      "execution_count": null,
      "outputs": []
    },
    {
      "cell_type": "code",
      "source": "x is not y",
      "metadata": {
        "trusted": true
      },
      "execution_count": null,
      "outputs": []
    },
    {
      "cell_type": "code",
      "source": "z = 1\nz is x",
      "metadata": {
        "trusted": true
      },
      "execution_count": null,
      "outputs": []
    },
    {
      "cell_type": "markdown",
      "source": "Python tiende a optimizar la memoria de forma automática. En ciertas situaciones, cuando diferentes variables tienen asignado el mismo valor, estas apuntan al mismo objeto, evitando así multiplicidad. Un caso claro es el de los valores `True` y `False` que solo existen en una dirección de memoria sin importar cuantas variables tengan asignados esos valores en el *namespace*. Como hemos visto, ocurre lo mismo con enteros pequeños.",
      "metadata": {}
    },
    {
      "cell_type": "code",
      "source": "id(x) == id(z)",
      "metadata": {
        "trusted": true
      },
      "execution_count": null,
      "outputs": []
    },
    {
      "cell_type": "code",
      "source": "a = 54354738436435\nb = 54354738436435\na is b",
      "metadata": {
        "trusted": true
      },
      "execution_count": null,
      "outputs": []
    },
    {
      "cell_type": "markdown",
      "source": "Para ver qué variables tenemos definidas en el *namespace*:",
      "metadata": {}
    },
    {
      "cell_type": "code",
      "source": "whos",
      "metadata": {
        "trusted": true
      },
      "execution_count": null,
      "outputs": []
    },
    {
      "cell_type": "markdown",
      "source": "> Nota: cada núcleo o *kernel* activo de Python tiene su propio *namespace*.",
      "metadata": {}
    },
    {
      "cell_type": "markdown",
      "source": "## 2.4. Tipos secuencia\nLas secuencias permiten almancenar otros tipos de datos de forma ordenada. Esto último permite el indexado, lo cual quiere decir que a cada posición en la secuencia le corresponde un valor. Principalmente, se trabaja con tres tipos de secuencia:\n- *Tuplas* (`tuple`): son secuencias inmutables y suelen escribirse entre paréntesis.\n- *Rangos* (`range`): son objetos que representan una secuencia numérica inmutable.\n- *Listas* (`list`): son secuencias mutables y se escriben entre corchetes.",
      "metadata": {}
    },
    {
      "cell_type": "markdown",
      "source": "### 2.4.1. *Tuplas*\nLas tuplas pueden almacenar cualquer tipo de dato. Para asignar una tupla a una variable escribimos la secuencia de datos separada por comas.",
      "metadata": {}
    },
    {
      "cell_type": "code",
      "source": "una_tupla = (1, 2, 3.0, 4 + 0j, \"5\")\nuna_tupla",
      "metadata": {
        "trusted": true
      },
      "execution_count": null,
      "outputs": []
    },
    {
      "cell_type": "markdown",
      "source": "De forma alternativa, podemos omitir el paréntesis (no confundir con la *asignación múltiple*):",
      "metadata": {}
    },
    {
      "cell_type": "code",
      "source": "una_tupla = 1, 2, 3.0, 4 + 0j, \"5\"\nuna_tupla",
      "metadata": {
        "trusted": true
      },
      "execution_count": null,
      "outputs": []
    },
    {
      "cell_type": "markdown",
      "source": "Si queremos saber si nuestra tupla contiene un valor determinado, escribimos:",
      "metadata": {}
    },
    {
      "cell_type": "code",
      "source": "2 in una_tupla",
      "metadata": {
        "trusted": true
      },
      "execution_count": null,
      "outputs": []
    },
    {
      "cell_type": "markdown",
      "source": "Para conocer cuantos elementos contiene la tupla:",
      "metadata": {}
    },
    {
      "cell_type": "code",
      "source": "len(una_tupla)",
      "metadata": {
        "trusted": true
      },
      "execution_count": null,
      "outputs": []
    },
    {
      "cell_type": "markdown",
      "source": "Para obtener un elemento de una tupla escribimos `<nombre_variable>[<n>]`, donde `<n>` es el índice que indica la posición del elemento dentro de la tupla y puede tomar los valores `<n>` = `0`,...,`len(<nombre_variable>)-1`, es decir, el indexado en Python comienza en cero de manera que al primer elemneto de una secuencia le corresponde la posición `0`. Veamos:",
      "metadata": {}
    },
    {
      "cell_type": "code",
      "source": "una_tupla[0]",
      "metadata": {
        "trusted": true
      },
      "execution_count": null,
      "outputs": []
    },
    {
      "cell_type": "code",
      "source": "una_tupla[len(una_tupla)-1]",
      "metadata": {
        "trusted": true
      },
      "execution_count": null,
      "outputs": []
    },
    {
      "cell_type": "markdown",
      "source": "Para obtener el último elemento, también podemos escribir:",
      "metadata": {}
    },
    {
      "cell_type": "code",
      "source": "una_tupla[-1]",
      "metadata": {
        "trusted": true
      },
      "execution_count": null,
      "outputs": []
    },
    {
      "cell_type": "markdown",
      "source": "Entonces, Python admite el indexado negativo. Por tanto, para obtener el primer elemento también podría escribirse:",
      "metadata": {}
    },
    {
      "cell_type": "code",
      "source": "una_tupla[-len(una_tupla)]",
      "metadata": {
        "trusted": true
      },
      "execution_count": null,
      "outputs": []
    },
    {
      "cell_type": "markdown",
      "source": "Podemos obtener *subsecuencias* sustituyendo el índice por la sintaxis `[<inicio>:<final>:<salto>]`:",
      "metadata": {}
    },
    {
      "cell_type": "code",
      "source": "print(una_tupla[0:2])  # Desde el primero hasta el tercero, excluyendo este: 1, 2\nprint(una_tupla[:3])  # Desde el primero hasta el cuarto, excluyendo este: 1, 2, 3.0\nprint(una_tupla[:])  # Desde el primero hasta el último sin salto\nprint(una_tupla[::2])  # Desde el primero hasta el último, saltando 2: 1, 3.0. '5'\nprint(una_tupla[::-2])  # Desde el último hasta el primero, saltando 2: '5', 3.0, 1",
      "metadata": {
        "trusted": true
      },
      "execution_count": null,
      "outputs": []
    },
    {
      "cell_type": "markdown",
      "source": "> Nota: puede observarse que si en el indexado omitimos:\n> - `<inicio>` indica la primera posición (o la última si el salto es negativo).\n> - `<final>` indica la última posición incluida (o la primera si el salto es negativo).\n> - `:<salto>` indica un salto de una posición positivo.",
      "metadata": {}
    },
    {
      "cell_type": "markdown",
      "source": "Para saber qué índice le corresponde a un elemento de una secuencia:",
      "metadata": {}
    },
    {
      "cell_type": "code",
      "source": "una_tupla.index(2)",
      "metadata": {
        "trusted": true
      },
      "execution_count": null,
      "outputs": []
    },
    {
      "cell_type": "markdown",
      "source": "O para contar cuantas veces aparece un elemento en una secuencia:",
      "metadata": {}
    },
    {
      "cell_type": "code",
      "source": "una_tupla.count(4+0j)",
      "metadata": {
        "trusted": true
      },
      "execution_count": null,
      "outputs": []
    },
    {
      "cell_type": "markdown",
      "source": "> Nota: En Python casi todo son *objetos*. Los *métodos* `index` y `count` pertenecen a los *objetos* de la *clase* secuencia. Estos *métodos* no son mas que *funciones* que están predefinadas para *objetos* de una cierta *clase*. *Objetos*, *métodos*, *atributos* y *clases* son elementos del paradígma de [Orientación a Objetos](https://es.wikipedia.org/wiki/Programaci%C3%B3n_orientada_a_objetos). `list` y `range` también *heredan* estos *métodos* junto con el indexado.",
      "metadata": {}
    },
    {
      "cell_type": "markdown",
      "source": "¿Qué significa que la tuplas son inmutables? Pues eso mismo, que no pueden se modificadas de ningún modo. No podemos cambiar el valor de un elemento, ni añadir o eliminar elementos.",
      "metadata": {}
    },
    {
      "cell_type": "code",
      "source": "una_tupla[1] = 0",
      "metadata": {
        "trusted": true
      },
      "execution_count": null,
      "outputs": []
    },
    {
      "cell_type": "markdown",
      "source": "Pero si podemos crear nuevas variables del tipo tupla que estén basadas en una tupla ya existente:",
      "metadata": {}
    },
    {
      "cell_type": "code",
      "source": "otra_tupla = una_tupla + (8.0, 4)\notra_tupla",
      "metadata": {
        "trusted": true
      },
      "execution_count": null,
      "outputs": []
    },
    {
      "cell_type": "code",
      "source": "doble_tupla = otra_tupla * 2\ndoble_tupla",
      "metadata": {
        "trusted": true
      },
      "execution_count": null,
      "outputs": []
    },
    {
      "cell_type": "markdown",
      "source": "### 2.4.2. *Rangos*\nLos rango son objetos que representan secuencias de números enteros. La ventaja es que su representación en memoria es un objeto en vez de la propia secuencia, por lo que podemos disponer de secuencias extremadamente largas sin apenas consumir recursos.\n\nSu sintáxis es coherente con la indexación: `range(<inicio>, <fin>, <salto>)`.",
      "metadata": {}
    },
    {
      "cell_type": "code",
      "source": "mi_rango = range(3, 16, 2)\nprint(mi_rango)\nprint(mi_rango[0])\nprint(mi_rango[1])\nprint(mi_rango[-1])",
      "metadata": {
        "trusted": true
      },
      "execution_count": null,
      "outputs": []
    },
    {
      "cell_type": "markdown",
      "source": "> **Ejercicio**: El objeto `range` tiene tres *atributos* a los que se puede acceder del mismo modo que los *métodos* con la salvedad de que no hay que emplear el paréntesis porque no son funciones. Imprimir en pantalla el `<salto>` de `mi_rango`.",
      "metadata": {}
    },
    {
      "cell_type": "markdown",
      "source": "### 2.4.3. *Listas*\nCon las listas podemos hacer todo lo que hemos visto con las tuplas pero, además, como son secuencias mutables, podemos modificarlas a gusto del consumidor.\n\nPodemos promocionar tuplas a listas y viceversa:",
      "metadata": {}
    },
    {
      "cell_type": "code",
      "source": "una_lista = list(una_tupla)\nuna_lista[1] = 0\nuna_lista.append(8.0)\nuna_lista.extend(una_lista)\nuna_lista",
      "metadata": {
        "trusted": true
      },
      "execution_count": null,
      "outputs": []
    },
    {
      "cell_type": "markdown",
      "source": "Por supuesto, podemos anidar listas y tuplas como queramos:",
      "metadata": {}
    },
    {
      "cell_type": "code",
      "source": "una_lista.insert(2, una_tupla)\nuna_lista",
      "metadata": {
        "trusted": true
      },
      "execution_count": null,
      "outputs": []
    },
    {
      "cell_type": "markdown",
      "source": "Y, por tanto, está permitida la indexación anidada. Veamos cuál es el elemento con índice 4 de la tupla que representa al elemento con índice 2 de nuestra lista:",
      "metadata": {}
    },
    {
      "cell_type": "code",
      "source": "una_lista[2][4]",
      "metadata": {
        "trusted": true
      },
      "execution_count": null,
      "outputs": []
    },
    {
      "cell_type": "markdown",
      "source": "> Nota: `append`, `extend` e `insert` son métodos modificadores que solo están disponibles para listas.\n\nTambién, podemos modificar varios elementos de una lista simultáneamete empleando el indexado:",
      "metadata": {}
    },
    {
      "cell_type": "code",
      "source": "una_lista[0:2] = [0]*2\nuna_lista[-1:-3:-1] = 1, 2\nuna_lista",
      "metadata": {
        "trusted": true
      },
      "execution_count": null,
      "outputs": []
    },
    {
      "cell_type": "markdown",
      "source": "Un comportamiento a tener en cuenta para colecciones mutables tales como las listas, cuando asignamos a una variable una lista existente, no se genera una nueva lista sino que la nueva variable apunta a la lista original. Este comportamiento conlleva que modificaciones en los elementos de una de las variables también son reflejadas por la otra. Veamos:",
      "metadata": {}
    },
    {
      "cell_type": "code",
      "source": "lista_original = [1, 2, 3]\nnueva_lista = lista_original\nnueva_lista[0] = 7\nprint(lista_original[0])",
      "metadata": {
        "trusted": true
      },
      "execution_count": null,
      "outputs": []
    },
    {
      "cell_type": "markdown",
      "source": "Una forma de sortear este comportamiento es crear una copia de la lista mediante el método `copy`:",
      "metadata": {}
    },
    {
      "cell_type": "code",
      "source": "lista_original = [1, 2, 3]\nnueva_lista = lista_original.copy()\nnueva_lista[0] = 7\nprint(lista_original[0])",
      "metadata": {
        "trusted": true
      },
      "execution_count": null,
      "outputs": []
    },
    {
      "cell_type": "markdown",
      "source": "> **Ejercicio**: Exiten mas métodos útiles para las listas. Podemos explorarlos escribiendo `<nombre_lista>.` o `list.` y presionando `Tab`.",
      "metadata": {}
    },
    {
      "cell_type": "markdown",
      "source": "## 2.5. Cadenas de caracteres\nUna cadena de caracteres es una secuencia alfanumérica que define con el tipo `str` (*string*). Es la forma genérica de almacenar texto en una variable. Para ello se emplea sintaxis de asignación ordinaria encerrando el texto deseado entre comillas simples o dobles:",
      "metadata": {}
    },
    {
      "cell_type": "code",
      "source": "mi_texto = \"Hola mundo!\" # Un clásico.\nmi_texto",
      "metadata": {
        "trusted": true
      },
      "execution_count": null,
      "outputs": []
    },
    {
      "cell_type": "code",
      "source": "len(mi_texto)",
      "metadata": {
        "trusted": true
      },
      "execution_count": null,
      "outputs": []
    },
    {
      "cell_type": "code",
      "source": "mi_texto.count(\"u\")",
      "metadata": {
        "trusted": true
      },
      "execution_count": null,
      "outputs": []
    },
    {
      "cell_type": "code",
      "source": "mi_texto[-1]",
      "metadata": {
        "trusted": true
      },
      "execution_count": null,
      "outputs": []
    },
    {
      "cell_type": "code",
      "source": "mi_texto[-1] = \"?\"",
      "metadata": {
        "trusted": true
      },
      "execution_count": null,
      "outputs": []
    },
    {
      "cell_type": "code",
      "source": "?mi_texto",
      "metadata": {
        "trusted": true
      },
      "execution_count": null,
      "outputs": []
    },
    {
      "cell_type": "markdown",
      "source": "Como vemos, los *strings* son inmutables, pero el objeto `str` tiene multitud de [*métodos*](https://docs.python.org/es/3/library/stdtypes.html#string-methods) que devuleven una copia modificada:",
      "metadata": {}
    },
    {
      "cell_type": "code",
      "source": "otro_texto = mi_texto.replace(\"!\", \"?\")\notro_texto",
      "metadata": {
        "trusted": true
      },
      "execution_count": null,
      "outputs": []
    },
    {
      "cell_type": "markdown",
      "source": "Hay que tener en cuenta que los *strings* no son datos numéricos:",
      "metadata": {}
    },
    {
      "cell_type": "code",
      "source": "una_cifra = \"5\" * 3\nuna_cifra",
      "metadata": {
        "trusted": true
      },
      "execution_count": null,
      "outputs": []
    },
    {
      "cell_type": "markdown",
      "source": "## 2.6. *Diccionarios*\nLos diccionarios son colecciones estructuradas en pares *clave-valor* creadas mediante el objeto `dict`:",
      "metadata": {}
    },
    {
      "cell_type": "code",
      "source": "d1 = dict(clave_1=1.0, clave_2=2+0j, clave_3=range(3))\nd1",
      "metadata": {
        "trusted": true
      },
      "execution_count": null,
      "outputs": []
    },
    {
      "cell_type": "markdown",
      "source": "Como vemos, de forma alternativa, podemos crear diccionarios encerrando los pares entre llaves, separandos por comas y escribiendo cada clave en forma de *string* seguido de dos puntos y el valor:",
      "metadata": {}
    },
    {
      "cell_type": "code",
      "source": "d2 = {\"clave_1\": 1.0, \"clave_2\": 2+0j, \"clave_3\": range(3)}\nd1 == d2",
      "metadata": {
        "trusted": true
      },
      "execution_count": null,
      "outputs": []
    },
    {
      "cell_type": "markdown",
      "source": "Podemos recuperar el *valor* correspondiente a una *clave* de la sigiente forma:",
      "metadata": {}
    },
    {
      "cell_type": "code",
      "source": "d1[\"clave_2\"]",
      "metadata": {
        "trusted": true
      },
      "execution_count": null,
      "outputs": []
    },
    {
      "cell_type": "markdown",
      "source": "Debemos tener en cuenta que, al igual que las listas, los diccionarios son objetos mutables:",
      "metadata": {}
    },
    {
      "cell_type": "code",
      "source": "d3 = d1\nd3[\"clave_2\"] = 0\nd1[\"clave_2\"]",
      "metadata": {
        "trusted": true
      },
      "execution_count": null,
      "outputs": []
    },
    {
      "cell_type": "markdown",
      "source": "Si queremos una *lista* de las claves contenias en un diccionario:",
      "metadata": {}
    },
    {
      "cell_type": "code",
      "source": "list(d1)",
      "metadata": {
        "trusted": true
      },
      "execution_count": null,
      "outputs": []
    },
    {
      "cell_type": "markdown",
      "source": "## 2.7. Estructuras de control\nUna estructura de control es un bloque de código que permite ejecutar instrucciones de manera controlada.",
      "metadata": {}
    },
    {
      "cell_type": "markdown",
      "source": "### 2.7.1. Condicional\nNos permite ejecutar código requiriendo que se cumpla una condición para ello. La condición suele ser una expresión cuyo resultado es un booleano, si el resultado es `True` entonces se ejecutará el código identado a continuación. Su estructura es la siguiente:\n\n<code>\nif condición_1: \n    líneas de código ejecutadas si condición_1 es True\nelif condición_2:\n    líneas de código ejecutadas si condición_1 es False y condición_2 es True\n·\n·\n·\nelif condición_n:\n    líneas de código ejecutadas si todas las anteriores son False y condición_n es True\nelse:\n    líneas de código ejecutadas cuando todas las condiciones son False\n</code>",
      "metadata": {}
    },
    {
      "cell_type": "code",
      "source": "compra = 250.0\nif compra <= 100: \n    print(\"Pago en efectivo\")\nelif compra > 100 and compra < 300: \n    print(\"Pago con tarjeta de débito\")\nelse: \n    print(\"Pago con tarjeta de crédito\")",
      "metadata": {
        "trusted": true
      },
      "execution_count": null,
      "outputs": []
    },
    {
      "cell_type": "markdown",
      "source": "> **Importante**: En Python los bloques se delimitan por sangrado, utilizando siempre cuatro espacios. Cuando ponemos los dos puntos al final de la primera línea del condicional, todo lo que vaya a continuación con *un* nivel de sangrado superior se considera dentro del condicional. En cuanto escribimos la primera línea con un nivel de sangrado inferior, hemos cerrado el condicional.",
      "metadata": {}
    },
    {
      "cell_type": "markdown",
      "source": "Sólo la sentencia `if` (junto con la condición el código a ejecutar) es obligatoria:",
      "metadata": {}
    },
    {
      "cell_type": "code",
      "source": "x, y = 1, 2\nprint(x, y)\nif x < y:\n    print(\"x es menor que y\")\n    print(\"x sigue siendo menor que y\")",
      "metadata": {
        "trusted": true
      },
      "execution_count": null,
      "outputs": []
    },
    {
      "cell_type": "markdown",
      "source": "### 2.7.2. Bucles *while*\nNos permite repetir la ejecución de un bloque de código mientras se cumpla una condición.\n\n<code>\nwhile condición_1: \n    líneas de código ejecutadas si condición_1 es True\n    if condición_2:\n        líneas de código ejecutadas si condición_1 y condición_2 son True\n        break    \n    líneas de código ejecutadas si condición_2 es False y condición_1 es True\nelse:\n    líneas de código ejecutadas si condición_1 es False\n</code>",
      "metadata": {}
    },
    {
      "cell_type": "code",
      "source": "ii = 0 # ii debe ser definida antes del bucle\nwhile ii < 5:\n    print(ii)\n    ii += 1 ## Esto es lo mismo que ii = ii + 1\n    if ii == 3:\n        break\nelse:\n    print(\"El bucle ha terminado\")",
      "metadata": {
        "trusted": true
      },
      "execution_count": null,
      "outputs": []
    },
    {
      "cell_type": "markdown",
      "source": "Sólo la sentencia `while` (junto con la condición el código a ejecutar) es obligatoria:",
      "metadata": {}
    },
    {
      "cell_type": "code",
      "source": "ii = 0\nwhile ii < 5:\n    print(ii)\n    ii += 1",
      "metadata": {
        "trusted": true
      },
      "execution_count": null,
      "outputs": []
    },
    {
      "cell_type": "markdown",
      "source": "### 2.7.3. Bucles *for*\nNos permite repetir la ejecución de un bloque de código recorriendo un *iterable*. Un *iterable* es un objeto que puede iterarse, es decir, ofrece un valor cada vez que se realiza una llamada con *for*. Por ejemplo, todas las secuencias son iterables.\n\n<code>\nfor valor in iterable: \n    líneas de código ejecutadas para cada valor en iterable\n</code>",
      "metadata": {}
    },
    {
      "cell_type": "code",
      "source": "mi_lista = ['Juan', 'Antonio', 'Pedro', 'Herminio'] \nfor nombre in mi_lista: \n    print(nombre)",
      "metadata": {
        "trusted": true
      },
      "execution_count": null,
      "outputs": []
    },
    {
      "cell_type": "code",
      "source": "for ii in range(len(mi_lista)): \n    print(mi_lista[ii])",
      "metadata": {
        "trusted": true
      },
      "execution_count": null,
      "outputs": []
    },
    {
      "cell_type": "markdown",
      "source": "Podemos emplear dos variables, una corresponde a la enumeración y la otra al elemento correspondiente del *iterable*:",
      "metadata": {}
    },
    {
      "cell_type": "code",
      "source": "for ii, nombre in enumerate(mi_lista): \n    print(ii+1, nombre)",
      "metadata": {
        "trusted": true
      },
      "execution_count": null,
      "outputs": []
    },
    {
      "cell_type": "markdown",
      "source": "Podemos emplear `zip` para recorrer distintos *iterables* en el mismo bucle:",
      "metadata": {}
    },
    {
      "cell_type": "code",
      "source": "for ii, nombre in zip(range(len(mi_lista)), mi_lista): \n    print(ii+1, nombre)",
      "metadata": {
        "trusted": true
      },
      "execution_count": null,
      "outputs": []
    },
    {
      "cell_type": "code",
      "source": "for clave, valor in zip(d1.keys(), d1.values()):\n    print(clave, \" = \", valor)\n    #if valor == 0:\n        #break\nelse:\n    print(\"Terminó\")",
      "metadata": {
        "trusted": true
      },
      "execution_count": null,
      "outputs": []
    },
    {
      "cell_type": "code",
      "source": "for caracter in \"Manolillo\":\n    print(caracter)",
      "metadata": {
        "trusted": true
      },
      "execution_count": null,
      "outputs": []
    },
    {
      "cell_type": "markdown",
      "source": "Una uso habitual de *for* es para la creación de colecciones:",
      "metadata": {}
    },
    {
      "cell_type": "code",
      "source": "lista_nueva = [0.5*(ii+1) for ii in range(5)]\nd_nuevo = {\"clave_\"+str(ii+1): jj ** 2 for ii, jj in enumerate(lista_nueva)}\nprint(lista_nueva)\nd_nuevo",
      "metadata": {
        "trusted": true
      },
      "execution_count": null,
      "outputs": []
    },
    {
      "cell_type": "markdown",
      "source": "## 2.8. Funciones\nUna función, es la forma de agrupar expresiones y sentencias que realicen determinadas acciones, pero que éstas solo se ejecuten cuando son llamadas. Es decir, que al colocar un algoritmo dentro de una función, al correr el archivo, las acciones no será ejecutado si no se ha hecho una referencia a la función que las contiene.\n\nLa finalidad de una función es realizar un conjunto de acciones cuyo código sea reutilizable y, por lo tanto, debe ser tan genérica como sea posible.\n\nPara definir nuestra propia función utilizamos la sentencia `def` seguida del nombre de la misma y entre paréntesis los argumentos de entrada. La primera línea de la función puede ser una cadena de documentación:",
      "metadata": {}
    },
    {
      "cell_type": "code",
      "source": "def duplica(lista):\n    \"\"\"Función que multiplica por 2 cada elemento de una lista\"\"\"\n    variable_interna = 2\n    for ii in range(len(lista)):\n        lista[ii] = variable_interna * lista[ii]",
      "metadata": {
        "trusted": true
      },
      "execution_count": null,
      "outputs": []
    },
    {
      "cell_type": "markdown",
      "source": "Para llamar a la función:",
      "metadata": {}
    },
    {
      "cell_type": "code",
      "source": "duplica(lista_nueva)\nlista_nueva",
      "metadata": {
        "trusted": true
      },
      "execution_count": null,
      "outputs": []
    },
    {
      "cell_type": "code",
      "source": "variable_interna",
      "metadata": {
        "trusted": true
      },
      "execution_count": null,
      "outputs": []
    },
    {
      "cell_type": "markdown",
      "source": "Por lo general, en el entorno de ejecución no se tiene acceso a las variables definidas internamente.\n\nSi los argumentos de entrada son mutables, estos se verán afectados por las modificaiones realizadas dentro de la función ya que, en realidad, el argumento de entrada lo único que hace es apuntar a un objeto que se encuentra alojado en el *namespace* desde el que se realiza la llamada a la función.",
      "metadata": {}
    },
    {
      "cell_type": "code",
      "source": "def duplica_sin_efecto(lista):\n    \"\"\"Función mal definida\"\"\"\n    variable_interna = 2\n    for elemento in lista:\n        elemento = variable_interna * elemento\n        \nduplica_sin_efecto(lista_nueva)\nlista_nueva",
      "metadata": {
        "trusted": true
      },
      "execution_count": null,
      "outputs": []
    },
    {
      "cell_type": "markdown",
      "source": "Aquí, la variable `elemento` está definida dentro de la función y, además, toma una copia de valor de los elementos en la lista, no son los elementos de la lista en sí, por lo que la función no modifica la lista.\n\nSi no queremos modificar la lista, podemos realizar un copia modificada y pasarla como argumento de retorno:",
      "metadata": {}
    },
    {
      "cell_type": "code",
      "source": "def duplica_una_copia(lista):\n    \"\"\"Función que multiplica por 2 cada elemento de una lista\n    devuelve una copia modificada\"\"\"\n    variable_interna = 2\n    lista_de_retorno = []\n    for elemento in lista:\n        lista_de_retorno.append(variable_interna * elemento)\n    return lista_de_retorno # Aquí van los argumentos de retorno separados por comas\n        \nlista_modificada = duplica_una_copia(lista_nueva) # Asignamos el argumento de retorno a una variable\nprint(lista_nueva)\nprint(lista_modificada)",
      "metadata": {
        "trusted": true
      },
      "execution_count": null,
      "outputs": []
    },
    {
      "cell_type": "markdown",
      "source": "También podemos incluir argumentos de entrada que tengan un valor por defecto. De este modo, si al llamar a la función omitimos esos argumentos, se empleará el valor asignado por defecto:",
      "metadata": {}
    },
    {
      "cell_type": "code",
      "source": "def multiplica_elementos(lista, factor=2):\n    \"\"\"Función que multiplica por 2 cada elemento de una lista\n    devuelve una copia modificada\"\"\"\n    lista_de_retorno = []\n    for elemento in lista:\n        lista_de_retorno.append(factor * elemento)\n    return lista_de_retorno # Aquí van los argumentos de retorno separados por comas\n        \nlista_modificada = multiplica_elementos(lista_nueva) # Asignamos el argumento de retorno a una variable\nprint(lista_nueva)\nprint(lista_modificada)",
      "metadata": {
        "trusted": true
      },
      "execution_count": null,
      "outputs": []
    },
    {
      "cell_type": "code",
      "source": "lista_modificada = multiplica_elementos(lista_nueva, 3) # Asignamos el argumento de retorno a una variable\nprint(lista_nueva)\nprint(lista_modificada)",
      "metadata": {
        "trusted": true
      },
      "execution_count": null,
      "outputs": []
    },
    {
      "cell_type": "code",
      "source": "",
      "metadata": {},
      "execution_count": null,
      "outputs": []
    }
  ]
}